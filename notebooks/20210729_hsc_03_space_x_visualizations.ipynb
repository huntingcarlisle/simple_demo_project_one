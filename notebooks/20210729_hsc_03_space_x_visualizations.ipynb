{
 "cells": [
  {
   "cell_type": "code",
   "execution_count": 2,
   "source": [
    "import pandas as pd\r\n",
    "import matplotlib.pyplot as plt"
   ],
   "outputs": [],
   "metadata": {}
  },
  {
   "cell_type": "code",
   "execution_count": 3,
   "source": [
    "space_x_df = pd.read_csv('../data/clean/space_x_clean.csv')"
   ],
   "outputs": [],
   "metadata": {}
  },
  {
   "cell_type": "code",
   "execution_count": 4,
   "source": [
    "space_x_df"
   ],
   "outputs": [
    {
     "output_type": "execute_result",
     "data": {
      "text/plain": [
       "        id      name  crew_capacity  \\\n",
       "0  dragon1  Dragon 1              0   \n",
       "1  dragon2  Dragon 2              7   \n",
       "\n",
       "                                     wikipedia  launch_payload_lb  \n",
       "0  https://en.wikipedia.org/wiki/SpaceX_Dragon              13228  \n",
       "1       https://en.wikipedia.org/wiki/Dragon_2              13228  "
      ],
      "text/html": [
       "<div>\n",
       "<style scoped>\n",
       "    .dataframe tbody tr th:only-of-type {\n",
       "        vertical-align: middle;\n",
       "    }\n",
       "\n",
       "    .dataframe tbody tr th {\n",
       "        vertical-align: top;\n",
       "    }\n",
       "\n",
       "    .dataframe thead th {\n",
       "        text-align: right;\n",
       "    }\n",
       "</style>\n",
       "<table border=\"1\" class=\"dataframe\">\n",
       "  <thead>\n",
       "    <tr style=\"text-align: right;\">\n",
       "      <th></th>\n",
       "      <th>id</th>\n",
       "      <th>name</th>\n",
       "      <th>crew_capacity</th>\n",
       "      <th>wikipedia</th>\n",
       "      <th>launch_payload_lb</th>\n",
       "    </tr>\n",
       "  </thead>\n",
       "  <tbody>\n",
       "    <tr>\n",
       "      <th>0</th>\n",
       "      <td>dragon1</td>\n",
       "      <td>Dragon 1</td>\n",
       "      <td>0</td>\n",
       "      <td>https://en.wikipedia.org/wiki/SpaceX_Dragon</td>\n",
       "      <td>13228</td>\n",
       "    </tr>\n",
       "    <tr>\n",
       "      <th>1</th>\n",
       "      <td>dragon2</td>\n",
       "      <td>Dragon 2</td>\n",
       "      <td>7</td>\n",
       "      <td>https://en.wikipedia.org/wiki/Dragon_2</td>\n",
       "      <td>13228</td>\n",
       "    </tr>\n",
       "  </tbody>\n",
       "</table>\n",
       "</div>"
      ]
     },
     "metadata": {},
     "execution_count": 4
    }
   ],
   "metadata": {}
  },
  {
   "cell_type": "markdown",
   "source": [
    "### Crew Capacity Analysis\n",
    "\n",
    "This is the **Crew Capacity** for Dragon Capsules in SpaceX."
   ],
   "metadata": {}
  },
  {
   "cell_type": "code",
   "execution_count": 5,
   "source": [
    "space_x_df.plot(x='name', y='crew_capacity', kind='bar')\r\n",
    "plt.show()"
   ],
   "outputs": [
    {
     "output_type": "display_data",
     "data": {
      "text/plain": [
       "<Figure size 432x288 with 1 Axes>"
      ],
      "image/png": "[encoded data removed]"
     },
     "metadata": {
      "needs_background": "light"
     }
    }
   ],
   "metadata": {}
  },
  {
   "cell_type": "markdown",
   "source": [
    "### Launch Payload Weight Analysis\n",
    "\n",
    "This is the **Launch Payload Weight** for Dragon Capsules in SpaceX."
   ],
   "metadata": {}
  },
  {
   "cell_type": "code",
   "execution_count": 7,
   "source": [
    "space_x_df.plot(x='name', y='launch_payload_lb', kind='bar')\r\n",
    "plt.savefig('../images/launch_payloads.jpg')\r\n",
    "plt.show()"
   ],
   "outputs": [
    {
     "output_type": "display_data",
     "data": {
      "text/plain": [
       "<Figure size 432x288 with 1 Axes>"
      ],
      "image/png": "[encoded data removed]"
     },
     "metadata": {
      "needs_background": "light"
     }
    }
   ],
   "metadata": {}
  },
  {
   "cell_type": "code",
   "execution_count": null,
   "source": [],
   "outputs": [],
   "metadata": {}
  }
 ],
 "metadata": {
  "kernelspec": {
   "name": "python3",
   "display_name": "Python 3.8.8 64-bit ('base': conda)"
  },
  "language_info": {
   "codemirror_mode": {
    "name": "ipython",
    "version": 3
   },
   "file_extension": ".py",
   "mimetype": "text/x-python",
   "name": "python",
   "nbconvert_exporter": "python",
   "pygments_lexer": "ipython3",
   "version": "3.8.8"
  },
  "interpreter": {
   "hash": "37b71aa8a717382e26d0192c285367eb1bc77b4662d9a499a92de9aafee10d41"
  }
 },
 "nbformat": 4,
 "nbformat_minor": 5
}