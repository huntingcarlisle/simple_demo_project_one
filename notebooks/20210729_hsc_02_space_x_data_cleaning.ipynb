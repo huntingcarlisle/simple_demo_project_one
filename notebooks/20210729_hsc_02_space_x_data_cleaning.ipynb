{
 "cells": [
  {
   "cell_type": "code",
   "execution_count": 1,
   "source": [
    "import json\r\n",
    "import pandas as pd"
   ],
   "outputs": [],
   "metadata": {}
  },
  {
   "cell_type": "code",
   "execution_count": 26,
   "source": [
    "with open('../data/raw/space_x_data_raw.json', 'r') as file_path:\r\n",
    "    capsules = json.load(file_path)\r\n",
    "capsules    "
   ],
   "outputs": [
    {
     "output_type": "execute_result",
     "data": {
      "text/plain": [
       "[{'id': 'dragon1',\n",
       "  'name': 'Dragon 1',\n",
       "  'type': 'capsule',\n",
       "  'active': True,\n",
       "  'crew_capacity': 0,\n",
       "  'sidewall_angle_deg': 15,\n",
       "  'orbit_duration_yr': 2,\n",
       "  'dry_mass_kg': 4200,\n",
       "  'dry_mass_lb': 9300,\n",
       "  'first_flight': '2010-12-08',\n",
       "  'heat_shield': {'material': 'PICA-X',\n",
       "   'size_meters': 3.6,\n",
       "   'temp_degrees': 3000,\n",
       "   'dev_partner': 'NASA'},\n",
       "  'thrusters': [{'type': 'Draco',\n",
       "    'amount': 18,\n",
       "    'pods': 4,\n",
       "    'fuel_1': 'nitrogen tetroxide',\n",
       "    'fuel_2': 'monomethylhydrazine',\n",
       "    'isp': 300,\n",
       "    'thrust': {'kN': 0.4, 'lbf': 90}}],\n",
       "  'launch_payload_mass': {'kg': 6000, 'lb': 13228},\n",
       "  'launch_payload_vol': {'cubic_meters': 25, 'cubic_feet': 883},\n",
       "  'return_payload_mass': {'kg': 3000, 'lb': 6614},\n",
       "  'return_payload_vol': {'cubic_meters': 11, 'cubic_feet': 388},\n",
       "  'pressurized_capsule': {'payload_volume': {'cubic_meters': 11,\n",
       "    'cubic_feet': 388}},\n",
       "  'trunk': {'trunk_volume': {'cubic_meters': 14, 'cubic_feet': 494},\n",
       "   'cargo': {'solar_array': 2, 'unpressurized_cargo': True}},\n",
       "  'height_w_trunk': {'meters': 7.2, 'feet': 23.6},\n",
       "  'diameter': {'meters': 3.7, 'feet': 12},\n",
       "  'flickr_images': ['https://i.imgur.com/9fWdwNv.jpg',\n",
       "   'https://live.staticflickr.com/8578/16655995541_7817565ea9_k.jpg',\n",
       "   'https://farm3.staticflickr.com/2815/32761844973_4b55b27d3c_b.jpg',\n",
       "   'https://farm9.staticflickr.com/8618/16649075267_d18cbb4342_b.jpg'],\n",
       "  'wikipedia': 'https://en.wikipedia.org/wiki/SpaceX_Dragon',\n",
       "  'description': 'Dragon is a reusable spacecraft developed by SpaceX, an American private space transportation company based in Hawthorne, California. Dragon is launched into space by the SpaceX Falcon 9 two-stage-to-orbit launch vehicle. The Dragon spacecraft was originally designed for human travel, but so far has only been used to deliver cargo to the International Space Station (ISS).'},\n",
       " {'id': 'dragon2',\n",
       "  'name': 'Dragon 2',\n",
       "  'type': 'capsule',\n",
       "  'active': True,\n",
       "  'crew_capacity': 7,\n",
       "  'sidewall_angle_deg': 15,\n",
       "  'orbit_duration_yr': 2,\n",
       "  'dry_mass_kg': 6350,\n",
       "  'dry_mass_lb': 14000,\n",
       "  'first_flight': '2019-03-02',\n",
       "  'heat_shield': {'material': 'PICA-X',\n",
       "   'size_meters': 3.6,\n",
       "   'temp_degrees': 3000,\n",
       "   'dev_partner': 'NASA'},\n",
       "  'thrusters': [{'type': 'Draco',\n",
       "    'amount': 18,\n",
       "    'pods': 4,\n",
       "    'fuel_1': 'nitrogen tetroxide',\n",
       "    'fuel_2': 'monomethylhydrazine',\n",
       "    'isp': 300,\n",
       "    'thrust': {'kN': 0.4, 'lbf': 90}},\n",
       "   {'type': 'SuperDraco',\n",
       "    'amount': 8,\n",
       "    'pods': 4,\n",
       "    'fuel_1': 'dinitrogen tetroxide',\n",
       "    'fuel_2': 'monomethylhydrazine',\n",
       "    'isp': 235,\n",
       "    'thrust': {'kN': 71, 'lbf': 16000}}],\n",
       "  'launch_payload_mass': {'kg': 6000, 'lb': 13228},\n",
       "  'launch_payload_vol': {'cubic_meters': 25, 'cubic_feet': 883},\n",
       "  'return_payload_mass': {'kg': 3000, 'lb': 6614},\n",
       "  'return_payload_vol': {'cubic_meters': 11, 'cubic_feet': 388},\n",
       "  'pressurized_capsule': {'payload_volume': {'cubic_meters': 11,\n",
       "    'cubic_feet': 388}},\n",
       "  'trunk': {'trunk_volume': {'cubic_meters': 14, 'cubic_feet': 494},\n",
       "   'cargo': {'solar_array': 2, 'unpressurized_cargo': True}},\n",
       "  'height_w_trunk': {'meters': 7.2, 'feet': 23.6},\n",
       "  'diameter': {'meters': 3.7, 'feet': 12},\n",
       "  'flickr_images': ['https://farm8.staticflickr.com/7647/16581815487_6d56cb32e1_b.jpg',\n",
       "   'https://farm1.staticflickr.com/780/21119686299_c88f63e350_b.jpg',\n",
       "   'https://farm9.staticflickr.com/8588/16661791299_a236e2f5dc_b.jpg'],\n",
       "  'wikipedia': 'https://en.wikipedia.org/wiki/Dragon_2',\n",
       "  'description': 'Dragon 2 (also Crew Dragon, Dragon V2, or formerly DragonRider) is the second version of the SpaceX Dragon spacecraft, which will be a human-rated vehicle. It includes a set of four side-mounted thruster pods with two SuperDraco engines each, which can serve as a launch escape system or launch abort system (LAS). In addition, it has much larger windows, new flight computers and avionics, and redesigned solar arrays, and a modified outer mold line from the initial cargo Dragon that has been flying for several years.'}]"
      ]
     },
     "metadata": {},
     "execution_count": 26
    }
   ],
   "metadata": {}
  },
  {
   "cell_type": "code",
   "execution_count": 27,
   "source": [
    "len(capsules)"
   ],
   "outputs": [
    {
     "output_type": "execute_result",
     "data": {
      "text/plain": [
       "2"
      ]
     },
     "metadata": {},
     "execution_count": 27
    }
   ],
   "metadata": {}
  },
  {
   "cell_type": "code",
   "execution_count": 30,
   "source": [
    "smaller_json = [{'id': capsule['id'], \r\n",
    "                 'name': capsule['name'], \r\n",
    "                 'crew_capacity': capsule['crew_capacity'], \r\n",
    "                 'wikipedia': capsule['wikipedia'],\r\n",
    "                 'launch_payload_lb': capsule['launch_payload_mass']['lb']}\r\n",
    "                for capsule in capsules]\r\n",
    "smaller_json"
   ],
   "outputs": [
    {
     "output_type": "execute_result",
     "data": {
      "text/plain": [
       "[{'id': 'dragon1',\n",
       "  'name': 'Dragon 1',\n",
       "  'crew_capacity': 0,\n",
       "  'wikipedia': 'https://en.wikipedia.org/wiki/SpaceX_Dragon',\n",
       "  'launch_payload_lb': 13228},\n",
       " {'id': 'dragon2',\n",
       "  'name': 'Dragon 2',\n",
       "  'crew_capacity': 7,\n",
       "  'wikipedia': 'https://en.wikipedia.org/wiki/Dragon_2',\n",
       "  'launch_payload_lb': 13228}]"
      ]
     },
     "metadata": {},
     "execution_count": 30
    }
   ],
   "metadata": {}
  },
  {
   "cell_type": "code",
   "execution_count": 31,
   "source": [
    "space_x_data_cleaned = pd.DataFrame(smaller_json)\r\n",
    "space_x_data_cleaned"
   ],
   "outputs": [
    {
     "output_type": "execute_result",
     "data": {
      "text/plain": [
       "        id      name  crew_capacity  \\\n",
       "0  dragon1  Dragon 1              0   \n",
       "1  dragon2  Dragon 2              7   \n",
       "\n",
       "                                     wikipedia  launch_payload_lb  \n",
       "0  https://en.wikipedia.org/wiki/SpaceX_Dragon              13228  \n",
       "1       https://en.wikipedia.org/wiki/Dragon_2              13228  "
      ],
      "text/html": [
       "<div>\n",
       "<style scoped>\n",
       "    .dataframe tbody tr th:only-of-type {\n",
       "        vertical-align: middle;\n",
       "    }\n",
       "\n",
       "    .dataframe tbody tr th {\n",
       "        vertical-align: top;\n",
       "    }\n",
       "\n",
       "    .dataframe thead th {\n",
       "        text-align: right;\n",
       "    }\n",
       "</style>\n",
       "<table border=\"1\" class=\"dataframe\">\n",
       "  <thead>\n",
       "    <tr style=\"text-align: right;\">\n",
       "      <th></th>\n",
       "      <th>id</th>\n",
       "      <th>name</th>\n",
       "      <th>crew_capacity</th>\n",
       "      <th>wikipedia</th>\n",
       "      <th>launch_payload_lb</th>\n",
       "    </tr>\n",
       "  </thead>\n",
       "  <tbody>\n",
       "    <tr>\n",
       "      <th>0</th>\n",
       "      <td>dragon1</td>\n",
       "      <td>Dragon 1</td>\n",
       "      <td>0</td>\n",
       "      <td>https://en.wikipedia.org/wiki/SpaceX_Dragon</td>\n",
       "      <td>13228</td>\n",
       "    </tr>\n",
       "    <tr>\n",
       "      <th>1</th>\n",
       "      <td>dragon2</td>\n",
       "      <td>Dragon 2</td>\n",
       "      <td>7</td>\n",
       "      <td>https://en.wikipedia.org/wiki/Dragon_2</td>\n",
       "      <td>13228</td>\n",
       "    </tr>\n",
       "  </tbody>\n",
       "</table>\n",
       "</div>"
      ]
     },
     "metadata": {},
     "execution_count": 31
    }
   ],
   "metadata": {}
  },
  {
   "cell_type": "code",
   "execution_count": 15,
   "source": [
    "space_x_data_cleaned.to_csv('../data/clean/space_x_clean.csv', index=False)"
   ],
   "outputs": [],
   "metadata": {}
  }
 ],
 "metadata": {
  "kernelspec": {
   "display_name": "Python 3",
   "language": "python",
   "name": "python3"
  },
  "language_info": {
   "codemirror_mode": {
    "name": "ipython",
    "version": 3
   },
   "file_extension": ".py",
   "mimetype": "text/x-python",
   "name": "python",
   "nbconvert_exporter": "python",
   "pygments_lexer": "ipython3",
   "version": "3.8.8"
  }
 },
 "nbformat": 4,
 "nbformat_minor": 5
}