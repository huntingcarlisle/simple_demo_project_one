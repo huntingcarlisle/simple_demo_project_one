{
 "cells": [
  {
   "cell_type": "code",
   "execution_count": 1,
   "source": [
    "import json\r\n",
    "import requests"
   ],
   "outputs": [],
   "metadata": {}
  },
  {
   "cell_type": "code",
   "execution_count": 2,
   "source": [
    "response_json = requests.get('https://api.spacexdata.com/v3/dragons').json()\r\n",
    "response_json"
   ],
   "outputs": [
    {
     "output_type": "execute_result",
     "data": {
      "text/plain": [
       "[{'id': 'dragon1',\n",
       "  'name': 'Dragon 1',\n",
       "  'type': 'capsule',\n",
       "  'active': True,\n",
       "  'crew_capacity': 0,\n",
       "  'sidewall_angle_deg': 15,\n",
       "  'orbit_duration_yr': 2,\n",
       "  'dry_mass_kg': 4200,\n",
       "  'dry_mass_lb': 9300,\n",
       "  'first_flight': '2010-12-08',\n",
       "  'heat_shield': {'material': 'PICA-X',\n",
       "   'size_meters': 3.6,\n",
       "   'temp_degrees': 3000,\n",
       "   'dev_partner': 'NASA'},\n",
       "  'thrusters': [{'type': 'Draco',\n",
       "    'amount': 18,\n",
       "    'pods': 4,\n",
       "    'fuel_1': 'nitrogen tetroxide',\n",
       "    'fuel_2': 'monomethylhydrazine',\n",
       "    'isp': 300,\n",
       "    'thrust': {'kN': 0.4, 'lbf': 90}}],\n",
       "  'launch_payload_mass': {'kg': 6000, 'lb': 13228},\n",
       "  'launch_payload_vol': {'cubic_meters': 25, 'cubic_feet': 883},\n",
       "  'return_payload_mass': {'kg': 3000, 'lb': 6614},\n",
       "  'return_payload_vol': {'cubic_meters': 11, 'cubic_feet': 388},\n",
       "  'pressurized_capsule': {'payload_volume': {'cubic_meters': 11,\n",
       "    'cubic_feet': 388}},\n",
       "  'trunk': {'trunk_volume': {'cubic_meters': 14, 'cubic_feet': 494},\n",
       "   'cargo': {'solar_array': 2, 'unpressurized_cargo': True}},\n",
       "  'height_w_trunk': {'meters': 7.2, 'feet': 23.6},\n",
       "  'diameter': {'meters': 3.7, 'feet': 12},\n",
       "  'flickr_images': ['https://i.imgur.com/9fWdwNv.jpg',\n",
       "   'https://live.staticflickr.com/8578/16655995541_7817565ea9_k.jpg',\n",
       "   'https://farm3.staticflickr.com/2815/32761844973_4b55b27d3c_b.jpg',\n",
       "   'https://farm9.staticflickr.com/8618/16649075267_d18cbb4342_b.jpg'],\n",
       "  'wikipedia': 'https://en.wikipedia.org/wiki/SpaceX_Dragon',\n",
       "  'description': 'Dragon is a reusable spacecraft developed by SpaceX, an American private space transportation company based in Hawthorne, California. Dragon is launched into space by the SpaceX Falcon 9 two-stage-to-orbit launch vehicle. The Dragon spacecraft was originally designed for human travel, but so far has only been used to deliver cargo to the International Space Station (ISS).'},\n",
       " {'id': 'dragon2',\n",
       "  'name': 'Dragon 2',\n",
       "  'type': 'capsule',\n",
       "  'active': True,\n",
       "  'crew_capacity': 7,\n",
       "  'sidewall_angle_deg': 15,\n",
       "  'orbit_duration_yr': 2,\n",
       "  'dry_mass_kg': 6350,\n",
       "  'dry_mass_lb': 14000,\n",
       "  'first_flight': '2019-03-02',\n",
       "  'heat_shield': {'material': 'PICA-X',\n",
       "   'size_meters': 3.6,\n",
       "   'temp_degrees': 3000,\n",
       "   'dev_partner': 'NASA'},\n",
       "  'thrusters': [{'type': 'Draco',\n",
       "    'amount': 18,\n",
       "    'pods': 4,\n",
       "    'fuel_1': 'nitrogen tetroxide',\n",
       "    'fuel_2': 'monomethylhydrazine',\n",
       "    'isp': 300,\n",
       "    'thrust': {'kN': 0.4, 'lbf': 90}},\n",
       "   {'type': 'SuperDraco',\n",
       "    'amount': 8,\n",
       "    'pods': 4,\n",
       "    'fuel_1': 'dinitrogen tetroxide',\n",
       "    'fuel_2': 'monomethylhydrazine',\n",
       "    'isp': 235,\n",
       "    'thrust': {'kN': 71, 'lbf': 16000}}],\n",
       "  'launch_payload_mass': {'kg': 6000, 'lb': 13228},\n",
       "  'launch_payload_vol': {'cubic_meters': 25, 'cubic_feet': 883},\n",
       "  'return_payload_mass': {'kg': 3000, 'lb': 6614},\n",
       "  'return_payload_vol': {'cubic_meters': 11, 'cubic_feet': 388},\n",
       "  'pressurized_capsule': {'payload_volume': {'cubic_meters': 11,\n",
       "    'cubic_feet': 388}},\n",
       "  'trunk': {'trunk_volume': {'cubic_meters': 14, 'cubic_feet': 494},\n",
       "   'cargo': {'solar_array': 2, 'unpressurized_cargo': True}},\n",
       "  'height_w_trunk': {'meters': 7.2, 'feet': 23.6},\n",
       "  'diameter': {'meters': 3.7, 'feet': 12},\n",
       "  'flickr_images': ['https://farm8.staticflickr.com/7647/16581815487_6d56cb32e1_b.jpg',\n",
       "   'https://farm1.staticflickr.com/780/21119686299_c88f63e350_b.jpg',\n",
       "   'https://farm9.staticflickr.com/8588/16661791299_a236e2f5dc_b.jpg'],\n",
       "  'wikipedia': 'https://en.wikipedia.org/wiki/Dragon_2',\n",
       "  'description': 'Dragon 2 (also Crew Dragon, Dragon V2, or formerly DragonRider) is the second version of the SpaceX Dragon spacecraft, which will be a human-rated vehicle. It includes a set of four side-mounted thruster pods with two SuperDraco engines each, which can serve as a launch escape system or launch abort system (LAS). In addition, it has much larger windows, new flight computers and avionics, and redesigned solar arrays, and a modified outer mold line from the initial cargo Dragon that has been flying for several years.'}]"
      ]
     },
     "metadata": {},
     "execution_count": 2
    }
   ],
   "metadata": {}
  },
  {
   "cell_type": "code",
   "execution_count": 3,
   "source": [
    "with open('../data/raw/space_x_data_raw.json', 'w') as file_path:\r\n",
    "    json.dump(response_json, file_path)"
   ],
   "outputs": [],
   "metadata": {}
  },
  {
   "cell_type": "code",
   "execution_count": null,
   "source": [],
   "outputs": [],
   "metadata": {}
  }
 ],
 "metadata": {
  "kernelspec": {
   "display_name": "Python 3",
   "language": "python",
   "name": "python3"
  },
  "language_info": {
   "codemirror_mode": {
    "name": "ipython",
    "version": 3
   },
   "file_extension": ".py",
   "mimetype": "text/x-python",
   "name": "python",
   "nbconvert_exporter": "python",
   "pygments_lexer": "ipython3",
   "version": "3.8.8"
  }
 },
 "nbformat": 4,
 "nbformat_minor": 5
}